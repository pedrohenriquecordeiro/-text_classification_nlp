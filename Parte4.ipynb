{
 "cells": [
  {
   "cell_type": "markdown",
   "metadata": {},
   "source": [
    "### carregamos o dataset"
   ]
  },
  {
   "cell_type": "code",
   "execution_count": 1,
   "metadata": {},
   "outputs": [],
   "source": [
    "import pandas as pd \n",
    "\n",
    "resenhas = pd.read_csv('imdb-reviews-pt-br.csv')\n",
    "\n",
    "# sera necessario limitar o numero de resenhas - 50% dos dados\n",
    "resenhas = resenhas.sample(frac = 0.50).reset_index(drop=True)\n",
    "\n",
    "troca = {\n",
    "    'neg' : 0,\n",
    "    'pos' : 1\n",
    "}\n",
    "\n",
    "resenhas['sentiment_b'] = resenhas.sentiment.map(troca)\n",
    "resenhas = resenhas.drop(columns = [\"id\" , \"text_en\", \"sentiment\"], axis = 1)\n",
    "\n",
    "all_texts = [text for text in resenhas.text_pt]\n",
    "all_ = ' '.join(all_texts)"
   ]
  },
  {
   "cell_type": "markdown",
   "metadata": {},
   "source": [
    "### retirando as pontuações, as stops words "
   ]
  },
  {
   "cell_type": "code",
   "execution_count": 2,
   "metadata": {},
   "outputs": [
    {
     "name": "stderr",
     "output_type": "stream",
     "text": [
      "[nltk_data] Downloading package stopwords to /home/pedro/nltk_data...\n",
      "[nltk_data]   Package stopwords is already up-to-date!\n"
     ]
    }
   ],
   "source": [
    "import nltk\n",
    "\n",
    "nltk.download('stopwords')\n",
    "stop_words = nltk.corpus.stopwords.words(\"portuguese\")\n",
    "\n",
    "import re\n",
    "\n",
    "# tudo lowercase\n",
    "for index, row in resenhas.iterrows():\n",
    "    resenhas.at[index,'text_pt'] = row['text_pt'].lower()\n",
    "    \n",
    "# elimina as stop words\n",
    "for index, row in resenhas.iterrows():\n",
    "    # retorna apenas as palavras - eliminando os pnts de sinalizacao\n",
    "    words = re.findall(r\"[\\w']+\", row['text_pt'])\n",
    "    temp = [ws for ws in words if ws not in stop_words]\n",
    "    resenhas.at[index,'text_pt'] = ' '.join(temp)\n",
    "\n",
    "# retiramos os acentos das palavras\n",
    "# retiramos tb as stop words sem acento\n",
    "import unidecode\n",
    "\n",
    "for index, row in resenhas.iterrows():\n",
    "    resenhas.at[index,'text_pt'] = unidecode.unidecode(row['text_pt'])\n",
    "    \n",
    "stop_words_sem_acentuacao = [unidecode.unidecode(sw) for sw in stop_words]\n",
    "\n",
    "for index, row in resenhas.iterrows():\n",
    "    # retorna apenas as palavras - eliminando os pnts de sinalizacao\n",
    "    words = re.findall(r\"[\\w']+\", row['text_pt'])\n",
    "    temp = [ws for ws in words if ws not in stop_words_sem_acentuacao]\n",
    "    resenhas.at[index,'text_pt'] = ' '.join(temp)"
   ]
  },
  {
   "cell_type": "markdown",
   "metadata": {},
   "source": [
    "# Stemização\n",
    "## reduzimos os elementos a um radical comum \n",
    "### reduz uma palavra com determinadas variações a um radical comum\n",
    "###  Essa técnica normaliza as palavras de forma a evitar suas flexões e derivações\n",
    "#### exemplo : correria, corredor, correr : 'corr'"
   ]
  },
  {
   "cell_type": "code",
   "execution_count": 3,
   "metadata": {},
   "outputs": [
    {
     "name": "stderr",
     "output_type": "stream",
     "text": [
      "[nltk_data] Downloading package rslp to /home/pedro/nltk_data...\n",
      "[nltk_data]   Package rslp is already up-to-date!\n"
     ]
    },
    {
     "data": {
      "text/plain": [
       "True"
      ]
     },
     "execution_count": 3,
     "metadata": {},
     "output_type": "execute_result"
    }
   ],
   "source": [
    "nltk.download('rslp')"
   ]
  },
  {
   "cell_type": "code",
   "execution_count": 4,
   "metadata": {},
   "outputs": [],
   "source": [
    "stemmer = nltk.RSLPStemmer()\n",
    "\n",
    "for index, row in resenhas.iterrows():\n",
    "    #retorna apenas as palavras - eliminando os pnts de sinalizacao\n",
    "    words = re.findall(r\"[\\w']+\", row['text_pt'])\n",
    "    temp = [stemmer.stem(ws) for ws in words]\n",
    "    resenhas.at[index,'text_pt'] = ' '.join(temp)"
   ]
  },
  {
   "cell_type": "markdown",
   "metadata": {},
   "source": [
    "### atualiza as variaveis"
   ]
  },
  {
   "cell_type": "code",
   "execution_count": 5,
   "metadata": {},
   "outputs": [],
   "source": [
    "# atualiza as variaveis\n",
    "all_texts = [text for text in resenhas.text_pt]\n",
    "all_ = ' '.join(all_texts)"
   ]
  },
  {
   "cell_type": "markdown",
   "metadata": {},
   "source": [
    "### Plota o grafico de pareto"
   ]
  },
  {
   "cell_type": "code",
   "execution_count": 6,
   "metadata": {},
   "outputs": [
    {
     "name": "stdout",
     "output_type": "stream",
     "text": [
      "    Palavra  Frequência\n",
      "3      film       96081\n",
      "184     tod       22944\n",
      "168     pod       21956\n",
      "290   algum       19015\n",
      "29      faz       18740\n",
      "84      ser       18551\n",
      "217    real       18295\n",
      "112    sobr       14822\n",
      "294    outr       14541\n",
      "80    parec       13755\n"
     ]
    },
    {
     "data": {
      "image/png": "[encoded data removed]",
      "text/plain": [
       "<Figure size 864x576 with 1 Axes>"
      ]
     },
     "metadata": {
      "needs_background": "light"
     },
     "output_type": "display_data"
    }
   ],
   "source": [
    "from nltk import tokenize\n",
    "\n",
    "tokenizador = tokenize.WhitespaceTokenizer()\n",
    "tokens = tokenizador.tokenize(all_)\n",
    "\n",
    "frequencia = nltk.FreqDist(tokens)\n",
    "\n",
    "import pandas as pd\n",
    "df_frequencia = pd.DataFrame({\n",
    "    \"Palavra\" : list(frequencia.keys()),\n",
    "    \"Frequência\" : list(frequencia.values())\n",
    "})\n",
    "\n",
    "## mostra as palavras de maior frequencia\n",
    "most_frequency = df_frequencia.nlargest(\n",
    "    columns = \"Frequência\" , \n",
    "    n = 10)\n",
    "\n",
    "print(most_frequency)\n",
    "\n",
    "import seaborn as sns\n",
    "import matplotlib.pyplot as plt\n",
    "%matplotlib inline\n",
    "\n",
    "plt.figure(figsize = (12,8))\n",
    "ax = sns.barplot(\n",
    "    data = most_frequency,\n",
    "    x = \"Palavra\",\n",
    "    y = \"Frequência\")\n",
    "plt.show()"
   ]
  },
  {
   "cell_type": "markdown",
   "metadata": {},
   "source": [
    "### repetimos a classificacao"
   ]
  },
  {
   "cell_type": "code",
   "execution_count": 7,
   "metadata": {},
   "outputs": [
    {
     "data": {
      "text/plain": [
       "0.7017628982694485"
      ]
     },
     "execution_count": 7,
     "metadata": {},
     "output_type": "execute_result"
    }
   ],
   "source": [
    "# cria o bag of words\n",
    "from sklearn.feature_extraction.text import CountVectorizer\n",
    "\n",
    "vetorizador = CountVectorizer(lowercase = False , max_features = 50)\n",
    "bag_of_words = vetorizador.fit_transform(resenhas.text_pt)\n",
    "\n",
    "# estratifica os dados\n",
    "from sklearn.model_selection import train_test_split\n",
    "\n",
    "SEED = 20\n",
    "treino, teste, classe_treino, classe_teste = train_test_split(\n",
    "    bag_of_words,\n",
    "    resenhas.sentiment_b,\n",
    "    random_state = SEED)\n",
    "\n",
    "# realiza a classificacao\n",
    "from sklearn.linear_model import LogisticRegression\n",
    "\n",
    "modelo = LogisticRegression(solver = 'lbfgs')\n",
    "modelo.fit(treino,classe_treino)\n",
    "modelo.score(teste,classe_teste)"
   ]
  },
  {
   "cell_type": "code",
   "execution_count": null,
   "metadata": {},
   "outputs": [],
   "source": []
  }
 ],
 "metadata": {
  "kernelspec": {
   "display_name": "Python 3",
   "language": "python",
   "name": "python3"
  },
  "language_info": {
   "codemirror_mode": {
    "name": "ipython",
    "version": 3
   },
   "file_extension": ".py",
   "mimetype": "text/x-python",
   "name": "python",
   "nbconvert_exporter": "python",
   "pygments_lexer": "ipython3",
   "version": "3.7.3"
  }
 },
 "nbformat": 4,
 "nbformat_minor": 2
}

{
 "cells": [
  {
   "cell_type": "markdown",
   "metadata": {},
   "source": [
    "### carregamos o dataset"
   ]
  },
  {
   "cell_type": "code",
   "execution_count": 1,
   "metadata": {},
   "outputs": [],
   "source": [
    "import pandas as pd \n",
    "\n",
    "resenhas = pd.read_csv('imdb-reviews-pt-br.csv')\n",
    "\n",
    "# sera necessario limitar o numero de resenhas - 75% dos dados\n",
    "resenhas = resenhas.sample(frac = 0.75).reset_index(drop=True)\n",
    "\n",
    "troca = {\n",
    "    'neg' : 0,\n",
    "    'pos' : 1\n",
    "}\n",
    "\n",
    "resenhas['sentiment_b'] = resenhas.sentiment.map(troca)\n",
    "resenhas = resenhas.drop(columns = [\"id\" , \"text_en\", \"sentiment\"], axis = 1)"
   ]
  },
  {
   "cell_type": "markdown",
   "metadata": {},
   "source": [
    "### tratando o dataset"
   ]
  },
  {
   "cell_type": "code",
   "execution_count": 2,
   "metadata": {},
   "outputs": [
    {
     "name": "stderr",
     "output_type": "stream",
     "text": [
      "[nltk_data] Downloading package stopwords to /home/pedro/nltk_data...\n",
      "[nltk_data]   Package stopwords is already up-to-date!\n",
      "[nltk_data] Downloading package rslp to /home/pedro/nltk_data...\n",
      "[nltk_data]   Package rslp is already up-to-date!\n"
     ]
    }
   ],
   "source": [
    "import nltk\n",
    "\n",
    "nltk.download('stopwords')\n",
    "stop_words = nltk.corpus.stopwords.words(\"portuguese\")\n",
    "\n",
    "import re\n",
    "\n",
    "# tudo lowercase\n",
    "for index, row in resenhas.iterrows():\n",
    "    resenhas.at[index,'text_pt'] = row['text_pt'].lower()\n",
    "    \n",
    "# elimina as stop words\n",
    "for index, row in resenhas.iterrows():\n",
    "    # retorna apenas as palavras - eliminando os pnts de sinalizacao\n",
    "    words = re.findall(r\"[\\w']+\", row['text_pt'])\n",
    "    temp = [ws for ws in words if ws not in stop_words]\n",
    "    resenhas.at[index,'text_pt'] = ' '.join(temp)\n",
    "\n",
    "# retiramos os acentos das palavras\n",
    "# retiramos tb as stop words sem acento\n",
    "import unidecode\n",
    "\n",
    "for index, row in resenhas.iterrows():\n",
    "    resenhas.at[index,'text_pt'] = unidecode.unidecode(row['text_pt'])\n",
    "    \n",
    "stop_words_sem_acentuacao = [unidecode.unidecode(sw) for sw in stop_words]\n",
    "\n",
    "for index, row in resenhas.iterrows():\n",
    "    # retorna apenas as palavras - eliminando os pnts de sinalizacao\n",
    "    words = re.findall(r\"[\\w']+\", row['text_pt'])\n",
    "    temp = [ws for ws in words if ws not in stop_words_sem_acentuacao]\n",
    "    resenhas.at[index,'text_pt'] = ' '.join(temp)\n",
    "    \n",
    "# stemizacao\n",
    "nltk.download('rslp')\n",
    "stemmer = nltk.RSLPStemmer()\n",
    "for index, row in resenhas.iterrows():\n",
    "    #retorna apenas as palavras - eliminando os pnts de sinalizacao\n",
    "    words = re.findall(r\"[\\w']+\", row['text_pt'])\n",
    "    temp = [stemmer.stem(ws) for ws in words]\n",
    "    resenhas.at[index,'text_pt'] = ' '.join(temp)"
   ]
  },
  {
   "cell_type": "markdown",
   "metadata": {},
   "source": [
    "## TF-IDF (Frequência dos Termos - Inverso da Frequência do Documento)\n",
    "#### TF-IDF irá contar a frequência das palavras, ponderando-as em todo o dataset"
   ]
  },
  {
   "cell_type": "markdown",
   "metadata": {},
   "source": [
    "### exemplo"
   ]
  },
  {
   "cell_type": "code",
   "execution_count": 3,
   "metadata": {},
   "outputs": [
    {
     "data": {
      "text/html": [
       "<div>\n",
       "<style scoped>\n",
       "    .dataframe tbody tr th:only-of-type {\n",
       "        vertical-align: middle;\n",
       "    }\n",
       "\n",
       "    .dataframe tbody tr th {\n",
       "        vertical-align: top;\n",
       "    }\n",
       "\n",
       "    .dataframe thead th {\n",
       "        text-align: right;\n",
       "    }\n",
       "</style>\n",
       "<table border=\"1\" class=\"dataframe\">\n",
       "  <thead>\n",
       "    <tr style=\"text-align: right;\">\n",
       "      <th></th>\n",
       "      <th>Assisti</th>\n",
       "      <th>filme</th>\n",
       "      <th>péssimo</th>\n",
       "      <th>um</th>\n",
       "      <th>ótimo</th>\n",
       "    </tr>\n",
       "  </thead>\n",
       "  <tbody>\n",
       "    <tr>\n",
       "      <th>0</th>\n",
       "      <td>0.448321</td>\n",
       "      <td>0.448321</td>\n",
       "      <td>0.000000</td>\n",
       "      <td>0.448321</td>\n",
       "      <td>0.630099</td>\n",
       "    </tr>\n",
       "    <tr>\n",
       "      <th>1</th>\n",
       "      <td>0.448321</td>\n",
       "      <td>0.448321</td>\n",
       "      <td>0.630099</td>\n",
       "      <td>0.448321</td>\n",
       "      <td>0.000000</td>\n",
       "    </tr>\n",
       "  </tbody>\n",
       "</table>\n",
       "</div>"
      ],
      "text/plain": [
       "    Assisti     filme   péssimo        um     ótimo\n",
       "0  0.448321  0.448321  0.000000  0.448321  0.630099\n",
       "1  0.448321  0.448321  0.630099  0.448321  0.000000"
      ]
     },
     "execution_count": 3,
     "metadata": {},
     "output_type": "execute_result"
    }
   ],
   "source": [
    "from sklearn.feature_extraction.text import TfidfVectorizer\n",
    "\n",
    "frases = [\"Assisti um filme ótimo\", \"Assisti um filme péssimo\"]\n",
    "\n",
    "tfidf = TfidfVectorizer(lowercase = False, max_features = 50)\n",
    "\n",
    "caracteristicas = tfidf.fit_transform(frases)\n",
    "\n",
    "pd.DataFrame(\n",
    "    caracteristicas.todense(),\n",
    "    columns = tfidf.get_feature_names()\n",
    "\n",
    ")"
   ]
  },
  {
   "cell_type": "markdown",
   "metadata": {},
   "source": [
    "### aplicando ao nosso dataset \n",
    "#### substituindo o bag of words"
   ]
  },
  {
   "cell_type": "code",
   "execution_count": 4,
   "metadata": {},
   "outputs": [],
   "source": [
    "from sklearn.feature_extraction.text import TfidfVectorizer\n",
    "\n",
    "tfidf = TfidfVectorizer(lowercase = False, max_features = 50)\n",
    "\n",
    "caracteristicas = tfidf.fit_transform(resenhas.text_pt)"
   ]
  },
  {
   "cell_type": "markdown",
   "metadata": {},
   "source": [
    "### repetimos a classificacao"
   ]
  },
  {
   "cell_type": "code",
   "execution_count": 5,
   "metadata": {},
   "outputs": [
    {
     "data": {
      "text/plain": [
       "0.6973960860423742"
      ]
     },
     "execution_count": 5,
     "metadata": {},
     "output_type": "execute_result"
    }
   ],
   "source": [
    "# estratifica os dados\n",
    "from sklearn.model_selection import train_test_split\n",
    "\n",
    "SEED = 20\n",
    "treino, teste, classe_treino, classe_teste = train_test_split(\n",
    "    caracteristicas,\n",
    "    resenhas.sentiment_b,\n",
    "    random_state = SEED)\n",
    "\n",
    "# realiza a classificacao\n",
    "from sklearn.linear_model import LogisticRegression\n",
    "\n",
    "modelo = LogisticRegression(solver = 'lbfgs')\n",
    "modelo.fit(treino,classe_treino)\n",
    "modelo.score(teste,classe_teste)"
   ]
  },
  {
   "cell_type": "code",
   "execution_count": null,
   "metadata": {},
   "outputs": [],
   "source": []
  }
 ],
 "metadata": {
  "kernelspec": {
   "display_name": "Python 3",
   "language": "python",
   "name": "python3"
  },
  "language_info": {
   "codemirror_mode": {
    "name": "ipython",
    "version": 3
   },
   "file_extension": ".py",
   "mimetype": "text/x-python",
   "name": "python",
   "nbconvert_exporter": "python",
   "pygments_lexer": "ipython3",
   "version": "3.7.3"
  }
 },
 "nbformat": 4,
 "nbformat_minor": 2
}
